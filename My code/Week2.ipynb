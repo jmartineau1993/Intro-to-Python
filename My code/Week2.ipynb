{
 "cells": [
  {
   "cell_type": "markdown",
   "id": "511b4ddb",
   "metadata": {},
   "source": [
    "# Week 2: Error codes, lists, loops, and if statements"
   ]
  },
  {
   "cell_type": "markdown",
   "id": "b10f0d10",
   "metadata": {},
   "source": [
    "### Exercise 1: Debug the following cells"
   ]
  },
  {
   "cell_type": "code",
   "execution_count": 1,
   "id": "89ea0e44",
   "metadata": {
    "scrolled": true
   },
   "outputs": [
    {
     "name": "stdout",
     "output_type": "stream",
     "text": [
      "My name is Julien\n"
     ]
    }
   ],
   "source": [
    "name = \"Julien\"\n",
    "\n",
    "print(\"My name is\",name)"
   ]
  },
  {
   "cell_type": "code",
   "execution_count": 2,
   "id": "9795c789",
   "metadata": {},
   "outputs": [
    {
     "name": "stdout",
     "output_type": "stream",
     "text": [
      "I am 28 years old\n"
     ]
    }
   ],
   "source": [
    "age = \"28\"\n",
    "print(\"I am\", age, \"years old\")"
   ]
  },
  {
   "cell_type": "code",
   "execution_count": 3,
   "id": "4dbe83d7",
   "metadata": {},
   "outputs": [
    {
     "name": "stdout",
     "output_type": "stream",
     "text": [
      "1.0\n"
     ]
    }
   ],
   "source": [
    "val1 = 1\n",
    "val2 = 1\n",
    "\n",
    "print(val1/val2)"
   ]
  },
  {
   "cell_type": "code",
   "execution_count": 4,
   "id": "6a755a20",
   "metadata": {},
   "outputs": [
    {
     "name": "stdout",
     "output_type": "stream",
     "text": [
      "240\n"
     ]
    }
   ],
   "source": [
    "val1 = 12\n",
    "val2 = 20\n",
    "\n",
    "print(val1 * val2)"
   ]
  },
  {
   "cell_type": "markdown",
   "id": "80b0825b",
   "metadata": {},
   "source": [
    "### Exercise 2: Write a list of five character names\n",
    "\n",
    "#### (a) Print out the third character's name"
   ]
  },
  {
   "cell_type": "code",
   "execution_count": 5,
   "id": "3310ad99",
   "metadata": {},
   "outputs": [
    {
     "name": "stdout",
     "output_type": "stream",
     "text": [
      "Monica\n"
     ]
    }
   ],
   "source": [
    "characters = [\"Joey\", \"Chandler\", \"Monica\", \"Rachel\",\"Ross\",\"Phoebe\"]\n",
    "print(characters[2])"
   ]
  },
  {
   "cell_type": "markdown",
   "id": "b60d1170",
   "metadata": {},
   "source": [
    "#### (b) Now, print out the first 3 characters' names"
   ]
  },
  {
   "cell_type": "code",
   "execution_count": 6,
   "id": "aacef21e",
   "metadata": {},
   "outputs": [
    {
     "name": "stdout",
     "output_type": "stream",
     "text": [
      "['Joey', 'Chandler', 'Monica']\n"
     ]
    }
   ],
   "source": [
    "print(characters[0:3])"
   ]
  },
  {
   "cell_type": "markdown",
   "id": "55774278",
   "metadata": {},
   "source": [
    "#### (c) Print out the last 3 characters' names"
   ]
  },
  {
   "cell_type": "code",
   "execution_count": 7,
   "id": "4a0e0e16",
   "metadata": {},
   "outputs": [
    {
     "name": "stdout",
     "output_type": "stream",
     "text": [
      "['Rachel', 'Ross', 'Phoebe']\n"
     ]
    }
   ],
   "source": [
    "print(characters[3:6])"
   ]
  },
  {
   "cell_type": "markdown",
   "id": "735db80b",
   "metadata": {},
   "source": [
    "#### (d) Print out the first and last characters' names"
   ]
  },
  {
   "cell_type": "code",
   "execution_count": 8,
   "id": "fad0e5b0",
   "metadata": {},
   "outputs": [
    {
     "name": "stdout",
     "output_type": "stream",
     "text": [
      "Joey Phoebe\n"
     ]
    }
   ],
   "source": [
    "print(characters[0],characters[5])"
   ]
  },
  {
   "cell_type": "markdown",
   "id": "4c6b481e",
   "metadata": {},
   "source": [
    "### Exercise 3: Given the following list, print out the elements in order to form a coherent sentence"
   ]
  },
  {
   "cell_type": "code",
   "execution_count": 9,
   "id": "3a5ad764",
   "metadata": {},
   "outputs": [
    {
     "name": "stdout",
     "output_type": "stream",
     "text": [
      "The quick brown fox jumps over the lazy dog\n"
     ]
    }
   ],
   "source": [
    "ex3 = [\"lazy\", \"The\", \"fox\", \"over\", \"dog\", \"jumps\", \"quick\", \"brown\", \"the\"]\n",
    "\n",
    "print(\n",
    "    ex3[1],\n",
    "    ex3[6],\n",
    "    ex3[-2],\n",
    "    ex3[2],\n",
    "    ex3[-4],\n",
    "    ex3[3],\n",
    "    ex3[-1],\n",
    "    ex3[0],\n",
    "    ex3[4]\n",
    "    \n",
    "    \n",
    ")"
   ]
  },
  {
   "cell_type": "markdown",
   "id": "7a5975f9",
   "metadata": {},
   "source": [
    "### Exercise 4: Write a weather forecast according to the following rules:\n",
    "\n",
    "- Initialize three variables: precipitation, temperature, and sky\n",
    "- If there is no precipitation, a clear sky, and the temperature is above 20$^\\circ$C, print \"What a beautiful day! It is {temperature} degrees outside\"\n",
    "- If there is rain, a cloudy sky, and the temperature is below 20$^\\circ$C, print \"What a groggy day... It is {temperature} degrees outside\"\n",
    "- Come up with a few other statements that should print for different combinations of precipitation, temperature, and sky"
   ]
  },
  {
   "cell_type": "code",
   "execution_count": 10,
   "id": "39011e9c",
   "metadata": {},
   "outputs": [
    {
     "name": "stdout",
     "output_type": "stream",
     "text": [
      "it is 20 degree outside\n"
     ]
    }
   ],
   "source": [
    "precipitation = \"rainy\"\n",
    "temperature = 20\n",
    "sky = \"cloudy\"\n",
    "\n",
    "if precipitation == \"rainy\":\n",
    "    \n",
    "    if temperature < 20:\n",
    "    \n",
    "        if sky == \"cloudy\":\n",
    "            print(f\"What a groggy day..it is {temperature} degrees outside\")\n",
    "    \n",
    "    if temperature >= 20:\n",
    "        print(f\"it is {temperature} degree outside\")"
   ]
  },
  {
   "cell_type": "markdown",
   "id": "3e9361c4",
   "metadata": {},
   "source": [
    "### Exercise 5: Given the following list of names, write an if statement to check whether your name is in the list\n",
    "\n",
    "#### If it isn't, add it to the list!"
   ]
  },
  {
   "cell_type": "code",
   "execution_count": 11,
   "id": "1f0f2bcc",
   "metadata": {},
   "outputs": [
    {
     "name": "stdout",
     "output_type": "stream",
     "text": [
      "sucess\n",
      "['Jade', 'Julien', 'Julie', 'Josée']\n"
     ]
    }
   ],
   "source": [
    "names = [\"Jade\", \"Julien\", \"Julie\", \"Josée\"]\n",
    "\n",
    "name = \"Julien\"\n",
    "\n",
    "if name in names :\n",
    "    print(\"sucess\")\n",
    "    \n",
    "else : \n",
    "    names.append(name)\n",
    "    \n",
    "print(names)"
   ]
  },
  {
   "cell_type": "markdown",
   "id": "72f0936f",
   "metadata": {},
   "source": [
    "### Exercise 6: Given the following list of integers, write a for loop that adds 2 to the value of each element in the list"
   ]
  },
  {
   "cell_type": "code",
   "execution_count": 12,
   "id": "bcf7b0fa",
   "metadata": {},
   "outputs": [
    {
     "name": "stdout",
     "output_type": "stream",
     "text": [
      "3\n",
      "5\n",
      "6\n",
      "9\n",
      "12\n",
      "14\n",
      "17\n"
     ]
    }
   ],
   "source": [
    "my_list = [1, 3, 4, 7, 10, 12, 15]\n",
    "\n",
    "for i in my_list:\n",
    "    print(i+2)"
   ]
  },
  {
   "cell_type": "markdown",
   "id": "78c508e4",
   "metadata": {},
   "source": [
    "### Exercise 7: Initialize integers $n$ and $m$. Write a for loop that multplies $n$ by 2, $m$ times."
   ]
  },
  {
   "cell_type": "code",
   "execution_count": 13,
   "id": "84a5b671",
   "metadata": {},
   "outputs": [
    {
     "name": "stdout",
     "output_type": "stream",
     "text": [
      "3072\n",
      "3072\n"
     ]
    }
   ],
   "source": [
    "n = 3\n",
    "m = 10\n",
    "\n",
    "for i in range(m):\n",
    "    n *= 2\n",
    "    \n",
    "print(n)\n",
    "print(3*2**10)"
   ]
  },
  {
   "cell_type": "markdown",
   "id": "9a8e6f5a",
   "metadata": {},
   "source": [
    "### Exercise 8: Initialize an empty list. Write a for loop that iterates through a range of $x$ values and calculates a variable $y$ according to:\n",
    "\n",
    "$$ y = 2(x - 3)^3 + 5 $$\n",
    "\n",
    "### At each iteration, append $y$ to the empty list. "
   ]
  },
  {
   "cell_type": "code",
   "execution_count": 14,
   "id": "323f9a4a",
   "metadata": {},
   "outputs": [
    {
     "name": "stdout",
     "output_type": "stream",
     "text": [
      "[-49, -11, 3, 5, 7, 21, 59, 133, 255, 437, 691, 1029, 1463, 2005, 2667, 3461, 4399, 5493, 6755, 8197]\n"
     ]
    }
   ],
   "source": [
    "my_list = []\n",
    "x = 20\n",
    "\n",
    "for i in range(x) :\n",
    "    \n",
    "    y = 2*(i-3)**3 + 5\n",
    "    \n",
    "    my_list.append(y)\n",
    "\n",
    "print(my_list)"
   ]
  },
  {
   "cell_type": "markdown",
   "id": "3a748560",
   "metadata": {},
   "source": [
    "### Exercise 9: Initialize a variable $n$ that is smaller than 100. Write a while loop that adds 5 to the value of $n$ until it becomes larger than 100."
   ]
  },
  {
   "cell_type": "code",
   "execution_count": 15,
   "id": "4b16e3c8",
   "metadata": {},
   "outputs": [
    {
     "name": "stdout",
     "output_type": "stream",
     "text": [
      "5\n",
      "5\n",
      "5\n",
      "5\n",
      "5\n",
      "5\n",
      "5\n",
      "5\n",
      "5\n",
      "5\n",
      "5\n",
      "5\n",
      "5\n",
      "5\n",
      "5\n",
      "5\n",
      "5\n",
      "5\n",
      "5\n",
      "5\n",
      "100\n"
     ]
    }
   ],
   "source": [
    "n = 0\n",
    "\n",
    "while n < 100:\n",
    "    \n",
    "    print(5)\n",
    "    \n",
    "    n += 5\n",
    "\n",
    "print(n)"
   ]
  },
  {
   "cell_type": "markdown",
   "id": "66ffc31b",
   "metadata": {},
   "source": [
    "***"
   ]
  },
  {
   "cell_type": "markdown",
   "id": "4952bc47",
   "metadata": {},
   "source": [
    "### Extra Exercise 1:\n",
    "\n",
    "The [Collatz conjecture](https://en.wikipedia.org/wiki/Collatz_conjecture) is one of the most famous unsolved problems in mathematics. It states that any natural number $n$ can be brought down to 1 via the following steps:\n",
    "\n",
    "- If $n$ is even, divide it by 2\n",
    "- If $n$ is odd, multiply it by 3 and add 1\n",
    "\n",
    "By repeating these two steps over and over on the resulting number, we inevitably arrive at 1. For example, let's try with 10:\n",
    "\n",
    "- $10\\div2 = 5$\n",
    "- $5\\times3+1 = 16$\n",
    "- $16 \\div 2 = 8$\n",
    "- $8 \\div 2 = 4$\n",
    "- $4 \\div 2 = 2$\n",
    "- $2 \\div 2 = 1$\n",
    "\n",
    "**Your task**: Initialize a variable $n$. Remember that $n$ must be a *positive integer*. Using a combination of a while loop and if statements, bring $n$ down to 1 according to the Collatz conjecture. At each iteration, print the current value (e.g. in the sequence I wrote above for $n=10$, we would have printed 10, 5, 16, 8, 4, 2, and 1)."
   ]
  },
  {
   "cell_type": "markdown",
   "id": "1ded995a",
   "metadata": {},
   "source": [
    "<details>\n",
    "<summary>Click here for a hint</summary>\n",
    "To check whether an integer is odd or even, we want to divide it by two. If there is no remainder, the number is even. If there is a remainder, the number is odd. In python, this is done via the % mathematical operation. n%m returns the remainder of the division of n by m.\n",
    "</details>"
   ]
  },
  {
   "cell_type": "code",
   "execution_count": 16,
   "id": "51278c8d",
   "metadata": {},
   "outputs": [
    {
     "name": "stdout",
     "output_type": "stream",
     "text": [
      "21\n",
      "64\n",
      "32\n",
      "16\n",
      "8\n",
      "4\n",
      "2\n",
      "1\n"
     ]
    }
   ],
   "source": [
    "n = 21\n",
    "\n",
    "while n != 1:\n",
    "    \n",
    "    print(n)\n",
    "    \n",
    "    if n%2 == 0:\n",
    "    \n",
    "        n = int(n/2)\n",
    "    \n",
    "    else: \n",
    "    \n",
    "        n = n*3+1\n",
    "\n",
    "print(n)\n",
    "    "
   ]
  },
  {
   "cell_type": "markdown",
   "id": "c979804b",
   "metadata": {},
   "source": [
    "### Extra Exercise 2:\n",
    "\n",
    "The [Fibonacci sequence](https://en.wikipedia.org/wiki/Fibonacci_number) is a sequence of natural numbers commonly found in nature, for example in [seashells](https://mathimages.swarthmore.edu/index.php/Fibonacci_Numbers) or [sunflowers](https://clevelanddesign.com/insights/the-nature-of-design-the-fibonacci-sequence-and-the-golden-ratio/). It is determined via the following rules:\n",
    "\n",
    "- Start with 0 and 1\n",
    "- Every subsequent number is the sum of the two numbers before it\n",
    "\n",
    "For example, the first 13 numbers in the Fibonacci sequence are\n",
    "\n",
    "$[0, 1, 1, 2, 3, 5, 8, 13, 21, 34, 55, 89, 144]$\n",
    "\n",
    "**Your task**: Initialize a list containing 0 and 1, and a positive integer $n$. Using a for loop, calculate the next $n$ numbers of the Fibonacci sequence."
   ]
  },
  {
   "cell_type": "markdown",
   "id": "bcf97c64",
   "metadata": {},
   "source": [
    "<details>\n",
    "<summary>Click here for a hint</summary>\n",
    "You can use the for loop counter to index list elements! For example, given the following list:\n",
    "    \n",
    "    my_list = [\"this\", \"is\", \"a\", \"random\", \"list\"]\n",
    "    \n",
    "The following code will print every element in the list:\n",
    "    \n",
    "    for i in range(5):\n",
    "    \n",
    "        print(my_list[i])\n",
    "    \n",
    "</details>"
   ]
  },
  {
   "cell_type": "markdown",
   "id": "49920b45",
   "metadata": {},
   "source": [
    "<details>\n",
    "<summary>Click here for another hint</summary>\n",
    "The range() function works similarly to the way we learned to index lists. \n",
    "    \n",
    "    for i in range(n, m):\n",
    "        print(i)\n",
    "    \n",
    "The above code block will print out every number between $n$ and $m$, where $n$ is included and $m$ is excluded.\n",
    "</details>"
   ]
  },
  {
   "cell_type": "code",
   "execution_count": 17,
   "id": "a05f5067",
   "metadata": {},
   "outputs": [],
   "source": [
    "fib = [0,1]\n",
    "n = ...\n",
    "\n",
    "#\n",
    "# Your code goes here\n",
    "#"
   ]
  },
  {
   "cell_type": "markdown",
   "id": "342ba95b",
   "metadata": {},
   "source": [
    "### Extra Exercise 3:\n",
    "\n",
    "Now that your Fibonaccio sequence code works, we'll focus on the [Golden Ratio](https://en.wikipedia.org/wiki/Golden_ratio). As you increase the number of elements $n$ in the Fibonaccio sequence, the ratio of the $n^{th}$ element to the $(n-1)^{th}$ element becomes closer and closer to the golden ratio: $1.61803...$ For example, for an $n=5$ Fibonacci sequence, we get:\n",
    "\n",
    "$[0, 1, 1, 2, 3]$\n",
    "\n",
    "The ratio of the $n^{th}$ element to the $(n-1)^{th}$ element is:\n",
    "\n",
    "$ 3 \\div 2 = 1.5$\n",
    "\n",
    "For an $n=13$ Fibonaccio sequence, we get:\n",
    "\n",
    "$[0, 1, 1, 2, 3, 5, 8, 13, 21, 34, 55, 89, 144]$\n",
    "\n",
    "And the ratio of the $n^{th}$ element to the $(n-1)^{th}$ element is:\n",
    "\n",
    "$ 144 \\div 89 = 1.6179775...$\n",
    "\n",
    "And so on until $n \\to \\infty$, where the ratio becomes exactly equal to the golden ratio.\n",
    "\n",
    "**Your task**: Re-use your code from Extra Exercise 2, but also print out the ratio of the $i^{th}$ to the $(i-1)^{th}$ element for every element $i$ in your fibonacci sequence. (This should only be a one or two line modification in your original code!)"
   ]
  },
  {
   "cell_type": "code",
   "execution_count": 18,
   "id": "fb91ed57",
   "metadata": {},
   "outputs": [],
   "source": [
    "#\n",
    "# Your code goes here\n",
    "#"
   ]
  },
  {
   "cell_type": "markdown",
   "id": "136fb15b",
   "metadata": {},
   "source": [
    "### Extra Exercise 4:\n",
    "\n",
    "The [Greatest Common Factor](https://www.mathsisfun.com/greatest-common-factor.html) of two natural numbers $n$ and $m$ is the greatest number that can divide both $n$ and $m$ with no remainder.\n",
    "\n",
    "For example, let $n = 12$ and $m = 20$. The greatest common factor is 4, since:\n",
    "\n",
    "$12 \\div 4 = 3$ and $20 \\div 4 = 5$\n",
    "\n",
    "Since 3 and 5 have no common factors, we know we have found it!\n",
    "\n",
    "**Your task**: Use a combination of a for loop and if statements to find the greatest common factor for two natural numbers $n$ and $m$"
   ]
  },
  {
   "cell_type": "markdown",
   "id": "5e93114a",
   "metadata": {},
   "source": [
    "<details>\n",
    "<summary>Click here for a hint</summary>\n",
    "To find the minimum between two numbers $n$ and $m$, use the min(n, m) function.\n",
    "    \n",
    "For example:\n",
    "    \n",
    "    min(10, 12)\n",
    "    \n",
    "returns 10, which is smaller than 12.\n",
    "</details>"
   ]
  },
  {
   "cell_type": "markdown",
   "id": "efc2e788",
   "metadata": {},
   "source": [
    "Verify your answer [here](https://www.calculatorsoup.com/calculators/math/commonfactors.php)!"
   ]
  },
  {
   "cell_type": "code",
   "execution_count": 19,
   "id": "e92d09a2",
   "metadata": {},
   "outputs": [],
   "source": [
    "n = ...\n",
    "m = ...\n",
    "\n",
    "#\n",
    "# Your code goes here\n",
    "#"
   ]
  },
  {
   "cell_type": "markdown",
   "id": "4aa99e9a",
   "metadata": {},
   "source": [
    "### Extra Exercise 5:\n",
    "\n",
    "[Prime numbers](https://en.wikipedia.org/wiki/Prime_number) are natural numbers that cannot be exactly divided by any natural number smaller than themselves (except for 1). The first six prime numbers are:\n",
    "\n",
    "$[2, 3, 5, 7, 11, 13]$\n",
    "\n",
    "Counterintuitively, it is possible to prove that there exist an infinite number of prime numbers!\n",
    "\n",
    "**Your task**: Initialize an empty list. Using a combination of a while loop, a for loop, and an if statement, append the first $n$ prime numbers."
   ]
  },
  {
   "cell_type": "markdown",
   "id": "183ae352",
   "metadata": {},
   "source": [
    "Verify your answer [here](https://onlinenumbertools.com/calculate-prime-numbers)!"
   ]
  },
  {
   "cell_type": "code",
   "execution_count": null,
   "id": "72dc3edc",
   "metadata": {},
   "outputs": [],
   "source": [
    "prime = []\n",
    "n = 6\n",
    "counter = 2\n",
    "\n",
    "while len(prime) < 6 : \n",
    "    c = 0 \n",
    "    for i in range(2, counter):\n",
    "        if counter%1 == 0 :\n",
    "            c += 1 \n",
    "    if c == 0:\n",
    "        prime.append(counter)        \n",
    "    counter += 1\n",
    "    \n",
    "print(prime)"
   ]
  },
  {
   "cell_type": "code",
   "execution_count": null,
   "id": "14b694ef",
   "metadata": {},
   "outputs": [],
   "source": [
    "n = 8 \n",
    "\n",
    "for i in range(2,n):\n",
    "    if i%2 == 0:\n",
    "\n",
    "        print(f\"{n} is not prime\")"
   ]
  },
  {
   "cell_type": "code",
   "execution_count": null,
   "id": "0f08d8d6",
   "metadata": {},
   "outputs": [],
   "source": [
    "my_list = [1,2,3,4]\n",
    "\n",
    "len(my_list)"
   ]
  },
  {
   "cell_type": "code",
   "execution_count": null,
   "id": "7a236d72",
   "metadata": {},
   "outputs": [],
   "source": []
  }
 ],
 "metadata": {
  "kernelspec": {
   "display_name": "Python 3 (ipykernel)",
   "language": "python",
   "name": "python3"
  },
  "language_info": {
   "codemirror_mode": {
    "name": "ipython",
    "version": 3
   },
   "file_extension": ".py",
   "mimetype": "text/x-python",
   "name": "python",
   "nbconvert_exporter": "python",
   "pygments_lexer": "ipython3",
   "version": "3.10.5"
  }
 },
 "nbformat": 4,
 "nbformat_minor": 5
}
