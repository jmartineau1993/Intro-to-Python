{
 "cells": [
  {
   "cell_type": "markdown",
   "id": "fe56a2ff",
   "metadata": {},
   "source": [
    "# Week 3: Functions and Packages"
   ]
  },
  {
   "cell_type": "markdown",
   "id": "0f6b1425",
   "metadata": {},
   "source": [
    "### Exercise 1:\n",
    "\n",
    "An object's weight is given by the following equation:\n",
    "\n",
    "\\begin{equation}\n",
    "W = mg,\n",
    "\\end{equation}\n",
    "\n",
    "where $W$ is the weight (in Newtons), $m$ is the mass (in kg) and $g$ is the gravitational acceleration (in N/kg). Write a function that takes in variables m and g and calculates an object's weight.\n",
    "\n",
    "*(On Earth, the gravitational acceleration has a value of 9.8 N/kg)*"
   ]
  },
  {
   "cell_type": "code",
   "execution_count": 9,
   "id": "387c1868",
   "metadata": {},
   "outputs": [
    {
     "name": "stdout",
     "output_type": "stream",
     "text": [
      "\n",
      "    Function description goes here\n",
      "    \n"
     ]
    }
   ],
   "source": [
    "def weight(m, g):\n",
    "    '''\n",
    "    Function description goes here\n",
    "    '''\n",
    "    \n",
    "    # \n",
    "    # Your code goes here\n",
    "    #\n",
    "    \n",
    "    \n",
    "#\n",
    "# Call the function here\n",
    "#\n",
    "    \n",
    "print(weight.__doc__)"
   ]
  },
  {
   "cell_type": "markdown",
   "id": "b47c76f5",
   "metadata": {},
   "source": [
    "### Exercise 2:\n",
    "\n",
    "In Exercise 1, we calculated an object's weight in Newtons given their mass in kg and the gravitational acceleration on Earth. However, people don't generally know or care about Newtons, so let's write a function that converts Newtons to pounds using the fact that $1N = 0.224809 lbs$. Your function should take as input the weight in Newtons."
   ]
  },
  {
   "cell_type": "code",
   "execution_count": 10,
   "id": "0c61687d",
   "metadata": {},
   "outputs": [],
   "source": [
    "def convert_n_to_lbs(w):\n",
    "    '''\n",
    "    Function description goes here\n",
    "    '''\n",
    "    \n",
    "    # \n",
    "    # Your code goes here\n",
    "    #\n",
    "    \n",
    "#\n",
    "# Call your function here\n",
    "#"
   ]
  },
  {
   "cell_type": "markdown",
   "id": "9992f2cc",
   "metadata": {},
   "source": [
    "### Exercise 3:\n",
    "\n",
    "You buy a house for $L$ dollars, for which you obviously need a mortgage. Your mortgage interest rate is $r$ and the amortization period is $n$ months. You will be paying your mortgage monthly. We'll use the following simplified model to compute the fixed monthly payment ($P$) required to fully amortize this loan:\n",
    "\n",
    "\\begin{equation}\n",
    "P = L \\frac{c(1+c)^n}{(1+c)^n - 1},\n",
    "\\end{equation}\n",
    "\n",
    "where $c$ is the *monthly* interest rate ($c = r/12$).\n",
    "\n",
    "Your task: Write a function that calculated the fixed monthly payment ($P$) given $L$, $r$, and $n$."
   ]
  },
  {
   "cell_type": "code",
   "execution_count": 11,
   "id": "fc0c7caa",
   "metadata": {},
   "outputs": [],
   "source": [
    "def fixed_payment(L, r, n):\n",
    "    '''\n",
    "    Function description goes here\n",
    "    '''\n",
    "    \n",
    "    #\n",
    "    # Your code goes here\n",
    "    #\n",
    "    \n",
    "#\n",
    "# Call the function here\n",
    "#"
   ]
  },
  {
   "cell_type": "markdown",
   "id": "727c6774",
   "metadata": {},
   "source": [
    "### Exercise 4:\n",
    "\n",
    "Given an annual taxable income of $x$ dollars, calculate the amount of Canadian federal taxes paid by this individual using the following [simplified model](https://www.canada.ca/en/revenue-agency/services/tax/individuals/frequently-asked-questions-individuals/canadian-income-tax-rates-individuals-current-previous-years.html):\n",
    "\n",
    "- 15\\% on the first $50,197 of taxable income, plus\n",
    "\n",
    "- 20.5\\% on the next $50,195 of taxable income, plus\n",
    "\n",
    "- 26\\% on the next $55,233 of taxable income, plus\n",
    "\n",
    "- 29\\% on the next $66,083 of taxable income, plus\n",
    "\n",
    "- 33\\% of taxable income over $221,708"
   ]
  },
  {
   "cell_type": "code",
   "execution_count": 12,
   "id": "7f63f114",
   "metadata": {},
   "outputs": [],
   "source": [
    "def federal_taxes(x):\n",
    "    '''\n",
    "    Function desription goes here\n",
    "    '''\n",
    "    \n",
    "    #\n",
    "    # Your code goes here\n",
    "    #\n",
    "    \n",
    "#\n",
    "# Call your function here\n",
    "#"
   ]
  },
  {
   "cell_type": "markdown",
   "id": "63c80c8b",
   "metadata": {},
   "source": [
    "### Exercise 5:\n",
    "\n",
    "Write a function that takes as input an array of $x$ values, a parameter $\\sigma$, and a parameter $\\mu$, and returns the following $y$ values:\n",
    "\n",
    "$$\n",
    "y = \\frac{1}{\\sqrt{2 \\pi \\sigma^2}} \\exp\\left(-\\frac{(x - \\mu)^2}{2 \\sigma^2}\\right)\n",
    "$$\n",
    "\n",
    "where $\\exp(x)$ is the natural exponential function $e^x$ (with $e$ being [Euler's number](https://en.wikipedia.org/wiki/E_(mathematical_constant))).\n",
    "\n",
    "This function is called the [Gaussian (or Normal) distribution](https://en.wikipedia.org/wiki/Normal_distribution)."
   ]
  },
  {
   "cell_type": "code",
   "execution_count": 21,
   "id": "d1232227",
   "metadata": {},
   "outputs": [],
   "source": [
    "#\n",
    "# Import numpy here\n",
    "#"
   ]
  },
  {
   "cell_type": "code",
   "execution_count": 22,
   "id": "3ab4e31e",
   "metadata": {},
   "outputs": [],
   "source": [
    "def gaussian(x, sigma, mu):\n",
    "    '''\n",
    "    Function description here\n",
    "    '''\n",
    "    \n",
    "    #\n",
    "    # Your code goes here\n",
    "    #\n",
    "    \n",
    "#\n",
    "# Call the function here\n",
    "#"
   ]
  },
  {
   "cell_type": "markdown",
   "id": "28e03453",
   "metadata": {},
   "source": [
    "### Exercise 6:\n",
    "\n",
    "Given an array of random x values, we will calculate several statistics, including...\n",
    "\n",
    "- the mean\n",
    "- the median\n",
    "- the standard deviation\n",
    "- the variance"
   ]
  },
  {
   "cell_type": "code",
   "execution_count": 23,
   "id": "64b512b6",
   "metadata": {},
   "outputs": [],
   "source": [
    "# \n",
    "# Your code goes here\n",
    "#"
   ]
  },
  {
   "cell_type": "markdown",
   "id": "d0786ee3",
   "metadata": {},
   "source": [
    "### Exercise 7:\n",
    "\n",
    "Conservation of energy states that an object's total energy must be conserved at all times. Consider the total mechanical energy of an object:\n",
    "\n",
    "\\begin{equation}\n",
    "E = K + U\n",
    "\\end{equation}\n",
    "\n",
    "where $K$ is the object's kinetic energy, and $U$ its potential energy. The kinetic energy is given by:\n",
    "\n",
    "\\begin{equation}\n",
    "K = \\frac{1}{2} m v^2,\n",
    "\\end{equation}\n",
    "\n",
    "where $m$ is the object's mass (kg) and $v$ is its velocity (m/s). $E$, $K$, and $U$ are all measured in Joules (J).\n",
    "\n",
    "Your task: You are given the following:\n",
    "\n",
    "- The object's total energy $E$\n",
    "- The object's potential energy at several points in time\n",
    "\n",
    "Write a function to calculate that object's velocity at those times for a given mass $m$.\n"
   ]
  },
  {
   "cell_type": "code",
   "execution_count": null,
   "id": "d56d7974",
   "metadata": {},
   "outputs": [],
   "source": [
    "E = 1000\n",
    "U = np.array([1000, 900, 700, 450, 200, 0])\n",
    "\n",
    "def velocity(m):\n",
    "    '''\n",
    "    Function description goes here\n",
    "    '''\n",
    "    \n",
    "    #\n",
    "    # Your code goes here\n",
    "    #\n",
    "    \n",
    "#\n",
    "# Call your function here\n",
    "#"
   ]
  },
  {
   "cell_type": "markdown",
   "id": "0d58a126",
   "metadata": {},
   "source": [
    "### Extra Exercise 1: Approximating the value of pi\n",
    "\n",
    "A very useful numpy function is the [numpy.random.random()](https://numpy.org/doc/stable/reference/random/generated/numpy.random.random.html) function. It allows you to simulate a random number in the half-open interval $[0, 1)$. Run the following cell a few times and see for yourself!"
   ]
  },
  {
   "cell_type": "code",
   "execution_count": 26,
   "id": "ab0a5a0c",
   "metadata": {},
   "outputs": [
    {
     "data": {
      "text/plain": [
       "0.434720756667485"
      ]
     },
     "execution_count": 26,
     "metadata": {},
     "output_type": "execute_result"
    }
   ],
   "source": [
    "import numpy as np\n",
    "\n",
    "np.random.random()"
   ]
  },
  {
   "cell_type": "markdown",
   "id": "5d6dba19",
   "metadata": {},
   "source": [
    "We will be applying a [Monte Carlo method](https://en.wikipedia.org/wiki/Monte_Carlo_method#:~:text=Monte%20Carlo%20methods%2C%20or%20Monte,might%20be%20deterministic%20in%20principle.), which consists in simulating a bunch of random numbers and performing calculations to obtain a specific output.\n",
    "\n",
    "In our case, consider the following: Our half-open np.random.random() interval allows us to simulate numbers between 0 and 1. If we imagine simulating a *pair* of numbers instead, then this pair is always located in the square bound by 0 and 1 on the x and y axes:\n",
    "\n",
    "![alt text](ex1.png \"Title\")"
   ]
  },
  {
   "cell_type": "markdown",
   "id": "f86bab13",
   "metadata": {},
   "source": [
    "Now, imagine a circle of radius 1 centered at the origin. It intersects our square like this:\n",
    "\n",
    "![alt text](ex2.png \"Title\")"
   ]
  },
  {
   "cell_type": "markdown",
   "id": "85ba66f2",
   "metadata": {},
   "source": [
    "This circle has a radius of 1, so it's area is:\n",
    "\n",
    "\\begin{equation}\n",
    "\\begin{split}\n",
    "A &= \\pi r^2 \\\\\n",
    "&= \\pi\n",
    "\\end{split}\n",
    "\\end{equation}\n",
    "\n",
    "However, we are only interested in the quarter-circle inscribed in the first quadrant, which has an area of\n",
    "\n",
    "\\begin{equation}\n",
    "A = \\frac{\\pi}{4}\n",
    "\\end{equation}\n",
    "\n",
    "On the other hand, the square inscribed in the first quadrant has an area of $1$.\n",
    "\n",
    "**Your task**: Generate $n$ random pairs of $x$ and $y$ values using np.random.random(). For each pair, determine whether the point is located *inside* the quarter-circle by considering the equation of a circle of radius 1:\n",
    "\n",
    "\\begin{equation}\n",
    "x^2 + y^2 = 1\n",
    "\\end{equation}\n",
    "\n",
    "The probability that a randomly generated point lies in the quarter-circle is simply equal to the area of the quarter-circle divided by the area of the square. In other words:\n",
    "\n",
    "\\begin{equation}\n",
    "\\begin{split}\n",
    "P &= \\frac{\\frac{\\pi}{4}}{1}\\\\\n",
    "&= \\frac{\\pi}{4}\n",
    "\\end{split}\n",
    "\\end{equation}\n",
    "\n",
    "However, this probability is **also equal** to the number of random points generated *inside* the quarter-circle divided by the number of random points generated *outside* the quarter circle."
   ]
  },
  {
   "cell_type": "markdown",
   "id": "3291c154",
   "metadata": {},
   "source": [
    "### So basically:\n",
    "\n",
    "1) Generate $n$ random $x$ and $y$ pairs using np.random.random()\n",
    "\n",
    "2) Check to see if they are inside or outside the quarter-circle using $x^2 + y^2 = 1$\n",
    "\n",
    "3) Calculate the ratio of points-inside to points-outside the quarter-circle\n",
    "\n",
    "4) Multiply this ratio by 4\n",
    "\n",
    "5) This is your estimate of $\\pi$!\n",
    "\n",
    "You should find that your estimate of $\\pi$ becomes more and more accurate as you increase the value of $n$"
   ]
  },
  {
   "cell_type": "code",
   "execution_count": 28,
   "id": "e1215f07",
   "metadata": {},
   "outputs": [],
   "source": [
    "def estimate_pi(n):\n",
    "    '''\n",
    "    Function description goes here\n",
    "    '''\n",
    "    \n",
    "    #\n",
    "    # Your code goes here\n",
    "    #\n",
    "    \n",
    "# \n",
    "# Call your function here\n",
    "#"
   ]
  },
  {
   "cell_type": "markdown",
   "id": "911c0766",
   "metadata": {},
   "source": [
    "### Extra Exercise 2: Central Limit Theorem"
   ]
  },
  {
   "cell_type": "markdown",
   "id": "cdb4f7b1",
   "metadata": {},
   "source": [
    "#### TBA! Check back in later with a \"git pull upstream main\""
   ]
  },
  {
   "cell_type": "code",
   "execution_count": null,
   "id": "84b0dcd3",
   "metadata": {},
   "outputs": [],
   "source": []
  }
 ],
 "metadata": {
  "kernelspec": {
   "display_name": "Python 3 (ipykernel)",
   "language": "python",
   "name": "python3"
  },
  "language_info": {
   "codemirror_mode": {
    "name": "ipython",
    "version": 3
   },
   "file_extension": ".py",
   "mimetype": "text/x-python",
   "name": "python",
   "nbconvert_exporter": "python",
   "pygments_lexer": "ipython3",
   "version": "3.10.5"
  }
 },
 "nbformat": 4,
 "nbformat_minor": 5
}
